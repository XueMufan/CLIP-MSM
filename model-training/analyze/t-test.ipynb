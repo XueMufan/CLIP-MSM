{
 "cells": [
  {
   "cell_type": "code",
   "execution_count": null,
   "metadata": {},
   "outputs": [],
   "source": [
    "import pickle\n",
    "\n",
    "path = {\n",
    "    \"clip_rn\" : \"YourPath/output/encoding_results/clip_visual_resnet_SELECTIVE_ROI/subj5/34_session/rsq_clip_visual_resnet_SELECTIVE_ROI.p\",\n",
    "    \"clip_vit\" : \"YourPath/output/encoding_results/clip_vit_SELECTIVE_ROI/subj5/34_session/rsq_clip_vit_SELECTIVE_ROI.p\",\n",
    "    \"alexnet\" : \"YourPath/output/encoding_results/convnet_alexnet_SELECTIVE_ROI/subj5/34_session/rsq_convnet_alexnet_SELECTIVE_ROI.p\",\n",
    "    \"rn50\" : \"YourPath/output/encoding_results/convnet_resnet_SELECTIVE_ROI/subj5/34_session/rsq_convnet_resnet_SELECTIVE_ROI.p\",\n",
    "}\n",
    "\n",
    "rsq = {}\n",
    "\n",
    "for t, cur_path in path.items():\n",
    "    with open(cur_path, 'rb') as f:\n",
    "        rsq[t] = pickle.load(f)\n",
    "\n",
    "print(rsq)\n",
    "\n"
   ]
  },
  {
   "cell_type": "code",
   "execution_count": null,
   "metadata": {},
   "outputs": [],
   "source": [
    "import numpy as np\n",
    "from scipy import stats\n",
    "\n",
    "keys = list(rsq.keys())\n",
    "\n",
    "cnt = 0\n",
    "\n",
    "for i in range(len(keys)):\n",
    "    for j in range(i, len(keys)):\n",
    "        # print(i,j)\n",
    "        if i == j:\n",
    "            continue\n",
    "        t_statistic, p_value = stats.ttest_ind(rsq[keys[i]], rsq[keys[j]])\n",
    "        cnt += 1\n",
    "        print(\"No %02d\" % cnt, end=\" \")\n",
    "        print(\"Carrying out t-test between %s and %s, p-value is %s\" % (keys[i], keys[j], p_value))\n",
    "        "
   ]
  }
 ],
 "metadata": {
  "kernelspec": {
   "display_name": "venv",
   "language": "python",
   "name": "python3"
  },
  "language_info": {
   "codemirror_mode": {
    "name": "ipython",
    "version": 3
   },
   "file_extension": ".py",
   "mimetype": "text/x-python",
   "name": "python",
   "nbconvert_exporter": "python",
   "pygments_lexer": "ipython3",
   "version": "3.9.13"
  }
 },
 "nbformat": 4,
 "nbformat_minor": 2
}
